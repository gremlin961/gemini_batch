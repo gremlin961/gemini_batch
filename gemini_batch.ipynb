{
 "cells": [
  {
   "cell_type": "markdown",
   "id": "b10199c8-e3c0-43bf-9457-c76e01034ce6",
   "metadata": {},
   "source": [
    "Copyright 2024 Google, LLC. This software is provided as-is,\n",
    "without warranty or representation for any use or purpose. Your\n",
    "use of it is subject to your agreement with Google.\n",
    "\n",
    "Licensed under the Apache License, Version 2.0 (the \"License\");\n",
    "you may not use this file except in compliance with the License.\n",
    "You may obtain a copy of the License at\n",
    "\n",
    "   http://www.apache.org/licenses/LICENSE-2.0\n",
    "\n",
    "Unless required by applicable law or agreed to in writing, software\n",
    "distributed under the License is distributed on an \"AS IS\" BASIS,\n",
    "WITHOUT WARRANTIES OR CONDITIONS OF ANY KIND, either express or implied.\n",
    "See the License for the specific language governing permissions and\n",
    "limitations under the License."
   ]
  },
  {
   "cell_type": "markdown",
   "id": "19cf3fcb-9e41-4105-b89f-64a573b3ffb3",
   "metadata": {},
   "source": [
    "# How to use Batch Predicitons with Gemini"
   ]
  },
  {
   "cell_type": "markdown",
   "id": "36bf06d4-3269-4327-9910-d42011859b1a",
   "metadata": {},
   "source": [
    "This notebook outlines how to interact with Vertex AI's Gemini models to call external API's using Function Calling. More info can be found at https://cloud.google.com/vertex-ai/generative-ai/docs/multimodal/batch-prediction-gemini"
   ]
  },
  {
   "cell_type": "markdown",
   "id": "e67b923f-f712-48ec-a3b6-a3d2a305884f",
   "metadata": {},
   "source": [
    "## Prepare the python development environment"
   ]
  },
  {
   "cell_type": "markdown",
   "id": "bcedf7c6-18a7-4294-b8a8-11555a1bde48",
   "metadata": {},
   "source": [
    "First, let's identify any project specific variables to customize this notebook to your GCP environment. Change YOUR_PROJECT_ID with your own GCP project ID."
   ]
  },
  {
   "cell_type": "code",
   "execution_count": null,
   "id": "93a33169-d938-4185-8a08-d48cbee56958",
   "metadata": {
    "tags": []
   },
   "outputs": [],
   "source": [
    "project_id = \"YOUR_PROJECT_ID\"\n",
    "location = \"global\"\n",
    "region = \"us-central1\"\n",
    "bq_dataset_id = \"gemini_batch_test\"\n",
    "bq_table = \"batch_input_table\"\n",
    "model_ver = \"gemini-1.0-pro-002\""
   ]
  },
  {
   "cell_type": "markdown",
   "id": "7bae61b6-9b4a-4949-987d-8f5129220759",
   "metadata": {
    "tags": []
   },
   "source": [
    "Install any needed python modules from our requirements.txt file. Most Vertex Workbench environments include all the packages we'll be using, but if you are using an external Jupyter Notebook or require any additional packages for your own needs, you can simply add them to the included requirements.txt file an run the folloiwng commands."
   ]
  },
  {
   "cell_type": "code",
   "execution_count": null,
   "id": "aa73c882-f0bb-445a-914e-6702189b8e38",
   "metadata": {
    "tags": []
   },
   "outputs": [],
   "source": [
    "#pip install -r requirements.txt"
   ]
  },
  {
   "cell_type": "markdown",
   "id": "fb7d728c-a4a8-4ea7-af59-559c09318512",
   "metadata": {},
   "source": [
    "Now we will import all required modules. For our purpose, we will be utilizing the following:\n",
    "\n",
    "- vertexai - Them primary library for working with the Vertex AI Platform on GCP \n",
    "- BatchPredictionJob - Used to submit and manage batch prediction jobs with Gemini"
   ]
  },
  {
   "cell_type": "code",
   "execution_count": null,
   "id": "55800605-c9b1-40c9-8c12-fb17de2876a1",
   "metadata": {
    "tags": []
   },
   "outputs": [],
   "source": [
    "import time\n",
    "import vertexai\n",
    "from vertexai.preview.batch_prediction import BatchPredictionJob"
   ]
  },
  {
   "cell_type": "markdown",
   "id": "895260a3-8502-4192-9d20-0ba60c0c4cb8",
   "metadata": {},
   "source": [
    "## Define and submit a Batch Prediction job for Gemini"
   ]
  },
  {
   "cell_type": "markdown",
   "id": "2aecf071-66f4-469e-be8a-405ba77a5f3b",
   "metadata": {},
   "source": [
    "Initialize vertexai"
   ]
  },
  {
   "cell_type": "code",
   "execution_count": null,
   "id": "b67e706b-b025-476b-8af7-9592cdcfb097",
   "metadata": {
    "tags": []
   },
   "outputs": [],
   "source": [
    "vertexai.init(project=project_id, location=region)"
   ]
  },
  {
   "cell_type": "markdown",
   "id": "24858e20-84b2-47a9-a099-e7dbd395fb32",
   "metadata": {},
   "source": [
    "Next we'll create the Gemini batch prediction job"
   ]
  },
  {
   "cell_type": "code",
   "execution_count": null,
   "id": "71d50cd2-becd-46ab-b75b-a58f86918f15",
   "metadata": {
    "tags": []
   },
   "outputs": [],
   "source": [
    "job = BatchPredictionJob.submit(\n",
    "    model_ver,   # source_model \n",
    "    #\"gs://rkiles-test/gemini-batch/batch_data2.json\", # input URI if using GCS\n",
    "    input_dataset = f'bq://{project_id}.{bq_dataset_id}.{bq_table}',  # input dataset if using BQ\n",
    "    output_uri_prefix = f'bq://{project_id}.{bq_dataset_id}'  # This will generate a new output table in BQ\n",
    ")"
   ]
  },
  {
   "cell_type": "markdown",
   "id": "11b59a77-48e6-4f2c-906a-5fb724be7cae",
   "metadata": {},
   "source": [
    "View and monitor the job status. You can also view the status in the GCP Cloud Console under Vertex AI -> Batch Predictions"
   ]
  },
  {
   "cell_type": "code",
   "execution_count": null,
   "id": "19999743-9576-49c0-8b0b-67f56d433948",
   "metadata": {
    "tags": []
   },
   "outputs": [],
   "source": [
    "# Check job status\n",
    "print(f\"Job resouce name: {job.resource_name}\")\n",
    "print(f\"Model resource name with the job: {job.model_name}\")\n",
    "print(f\"Job state: {job.state.name}\")\n",
    "\n",
    "# Refresh the job until complete\n",
    "while not job.has_ended:\n",
    "  time.sleep(5)\n",
    "  job.refresh()\n",
    "\n",
    "# Check if the job succeeds\n",
    "if job.has_succeeded:\n",
    "  print(\"Job succeeded!\")\n",
    "else:\n",
    "  print(f\"Job failed: {job.error}\")"
   ]
  },
  {
   "cell_type": "markdown",
   "id": "127a3bd5-fc35-41b0-8884-d0331d4bef5e",
   "metadata": {},
   "source": [
    "Check the location of the output"
   ]
  },
  {
   "cell_type": "code",
   "execution_count": null,
   "id": "2e18c7a8-c4e8-4002-bf95-36def8fb580f",
   "metadata": {
    "tags": []
   },
   "outputs": [],
   "source": [
    "print(f\"Job output location: {job.output_location}\")"
   ]
  },
  {
   "cell_type": "markdown",
   "id": "943c43ba-50c3-40e7-998d-300bd555c26b",
   "metadata": {},
   "source": [
    "List all the GenAI batch prediction jobs under the project"
   ]
  },
  {
   "cell_type": "code",
   "execution_count": null,
   "id": "d04422a0-cb6b-464a-8650-7a610a78c703",
   "metadata": {
    "tags": []
   },
   "outputs": [],
   "source": [
    "for bpj in BatchPredictionJob.list():\n",
    "  print(f\"Job ID: '{bpj.name}', Job state: {bpj.state.name}, Job model: {bpj.model_name}\")"
   ]
  },
  {
   "cell_type": "code",
   "execution_count": null,
   "id": "6ae06962-5148-4bc4-b14c-cf5f1ed4820c",
   "metadata": {},
   "outputs": [],
   "source": []
  }
 ],
 "metadata": {
  "environment": {
   "kernel": "python3",
   "name": "common-cpu.m113",
   "type": "gcloud",
   "uri": "gcr.io/deeplearning-platform-release/base-cpu:m113"
  },
  "kernelspec": {
   "display_name": "Python 3",
   "language": "python",
   "name": "python3"
  },
  "language_info": {
   "codemirror_mode": {
    "name": "ipython",
    "version": 3
   },
   "file_extension": ".py",
   "mimetype": "text/x-python",
   "name": "python",
   "nbconvert_exporter": "python",
   "pygments_lexer": "ipython3",
   "version": "3.10.13"
  }
 },
 "nbformat": 4,
 "nbformat_minor": 5
}
