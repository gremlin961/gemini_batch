{
 "cells": [
  {
   "cell_type": "markdown",
   "id": "b10199c8-e3c0-43bf-9457-c76e01034ce6",
   "metadata": {},
   "source": [
    "Copyright 2024 Google, LLC. This software is provided as-is,\n",
    "without warranty or representation for any use or purpose. Your\n",
    "use of it is subject to your agreement with Google.\n",
    "\n",
    "Licensed under the Apache License, Version 2.0 (the \"License\");\n",
    "you may not use this file except in compliance with the License.\n",
    "You may obtain a copy of the License at\n",
    "\n",
    "   http://www.apache.org/licenses/LICENSE-2.0\n",
    "\n",
    "Unless required by applicable law or agreed to in writing, software\n",
    "distributed under the License is distributed on an \"AS IS\" BASIS,\n",
    "WITHOUT WARRANTIES OR CONDITIONS OF ANY KIND, either express or implied.\n",
    "See the License for the specific language governing permissions and\n",
    "limitations under the License."
   ]
  },
  {
   "cell_type": "markdown",
   "id": "19cf3fcb-9e41-4105-b89f-64a573b3ffb3",
   "metadata": {},
   "source": [
    "# How to use Batch Predicitons with Gemini"
   ]
  },
  {
   "cell_type": "markdown",
   "id": "36bf06d4-3269-4327-9910-d42011859b1a",
   "metadata": {},
   "source": [
    "This notebook outlines how to interact with Vertex AI's Gemini models to call external API's using Function Calling. More info can be found at https://cloud.google.com/vertex-ai/generative-ai/docs/multimodal/batch-prediction-gemini"
   ]
  },
  {
   "cell_type": "markdown",
   "id": "e67b923f-f712-48ec-a3b6-a3d2a305884f",
   "metadata": {},
   "source": [
    "## Prepare the python development environment"
   ]
  },
  {
   "cell_type": "markdown",
   "id": "bcedf7c6-18a7-4294-b8a8-11555a1bde48",
   "metadata": {},
   "source": [
    "First, let's identify any project specific variables to customize this notebook to your GCP environment. Change YOUR_PROJECT_ID with your own GCP project ID."
   ]
  },
  {
   "cell_type": "code",
   "execution_count": null,
   "id": "93a33169-d938-4185-8a08-d48cbee56958",
   "metadata": {
    "tags": []
   },
   "outputs": [],
   "source": [
    "project_id = \"YOUR_PROJECT_ID\"\n",
    "location = \"global\"\n",
    "region = \"us-central1\"\n",
    "bq_dataset_id = \"gemini_batch_test\"\n",
    "bq_input_table = \"batch_input_table\"\n",
    "bq_output_table = \"gem_batch_output\"\n",
    "batch_job_name = \"gem_batch_job_001\"\n",
    "model_ver = \"gemini-1.0-pro-002\""
   ]
  },
  {
   "cell_type": "markdown",
   "id": "7bae61b6-9b4a-4949-987d-8f5129220759",
   "metadata": {},
   "source": [
    "Install any needed python modules from our requirements.txt file. Most Vertex Workbench environments include all the packages we'll be using, but if you are using an external Jupyter Notebook or require any additional packages for your own needs, you can simply add them to the included requirements.txt file an run the folloiwng commands."
   ]
  },
  {
   "cell_type": "code",
   "execution_count": null,
   "id": "aa73c882-f0bb-445a-914e-6702189b8e38",
   "metadata": {
    "tags": []
   },
   "outputs": [],
   "source": [
    "#pip install -r requirements.txt"
   ]
  },
  {
   "cell_type": "markdown",
   "id": "fb7d728c-a4a8-4ea7-af59-559c09318512",
   "metadata": {},
   "source": [
    "Now we will import all required modules. For our purpose, we will be utilizing the following:\n",
    "\n",
    "- requests - This module will allow us to interact directly with external REST API's. \n"
   ]
  },
  {
   "cell_type": "code",
   "execution_count": null,
   "id": "55800605-c9b1-40c9-8c12-fb17de2876a1",
   "metadata": {
    "tags": []
   },
   "outputs": [],
   "source": [
    "import time\n",
    "import google.auth.transport.requests\n",
    "import google.auth\n",
    "import base64\n",
    "import requests\n",
    "import json\n"
   ]
  },
  {
   "cell_type": "markdown",
   "id": "895260a3-8502-4192-9d20-0ba60c0c4cb8",
   "metadata": {},
   "source": [
    "## Define the Gemini Batch Prediciton Request"
   ]
  },
  {
   "cell_type": "markdown",
   "id": "2aecf071-66f4-469e-be8a-405ba77a5f3b",
   "metadata": {},
   "source": [
    "Next we will define the request header and data to be sent to the Gemini Batch Prediction API"
   ]
  },
  {
   "cell_type": "code",
   "execution_count": null,
   "id": "7438bc84-69b1-49d0-85fc-1c44b886779e",
   "metadata": {
    "tags": []
   },
   "outputs": [],
   "source": [
    "credentials, project_id = google.auth.default()\n",
    "auth_req = google.auth.transport.requests.Request()\n",
    "credentials.refresh(auth_req)"
   ]
  },
  {
   "cell_type": "code",
   "execution_count": null,
   "id": "5ae210b7-f1ed-4733-ab86-4ee3ab2fe867",
   "metadata": {
    "tags": []
   },
   "outputs": [],
   "source": [
    "access_token = credentials.token"
   ]
  },
  {
   "cell_type": "code",
   "execution_count": null,
   "id": "089465ca-6793-478c-bf45-d22d4e982470",
   "metadata": {
    "tags": []
   },
   "outputs": [],
   "source": [
    "headers = {\n",
    "        'Authorization': 'Bearer ' + access_token,\n",
    "        'Content-Type': 'application/json; charset=utf-8'\n",
    "    }"
   ]
  },
  {
   "cell_type": "code",
   "execution_count": null,
   "id": "7f64b898-49ba-4d4f-bb3b-d79b21b520f9",
   "metadata": {},
   "outputs": [],
   "source": []
  },
  {
   "cell_type": "code",
   "execution_count": null,
   "id": "092879e6-5635-41ce-a930-eb8dc8858a3d",
   "metadata": {
    "tags": []
   },
   "outputs": [],
   "source": [
    "url = f'https://{region}-aiplatform.googleapis.com/v1/projects/{project_id}/locations/{region}/batchPredictionJobs'"
   ]
  },
  {
   "cell_type": "code",
   "execution_count": null,
   "id": "b67e706b-b025-476b-8af7-9592cdcfb097",
   "metadata": {
    "tags": []
   },
   "outputs": [],
   "source": [
    "request_body = f'''{{\n",
    "    \"name\": \"{batch_job_name}\",\n",
    "    \"displayName\": \"{batch_job_name}\",\n",
    "    \"model\": \"publishers/google/models/{model_ver}\",\n",
    "    \"inputConfig\": {{\n",
    "      \"instancesFormat\":\"bigquery\",\n",
    "      \"bigquerySource\":{{\n",
    "        \"inputUri\" : \"bq://{project_id}.{bq_dataset_id}.{bq_input_table}\"\n",
    "      }}\n",
    "    }},\n",
    "    \"outputConfig\": {{\n",
    "      \"predictionsFormat\":\"bigquery\",\n",
    "      \"bigqueryDestination\":{{\n",
    "        \"outputUri\": \"bq://{project_id}.{bq_dataset_id}.{bq_output_table}\"\n",
    "        }}\n",
    "    }}\n",
    "}}'''"
   ]
  },
  {
   "cell_type": "markdown",
   "id": "dfb35c8a-4b72-4514-932a-f29d6a1bff2e",
   "metadata": {},
   "source": [
    "Submit the request to the RestAPI"
   ]
  },
  {
   "cell_type": "code",
   "execution_count": null,
   "id": "fd1657e4-3c4e-440c-b3ea-14981a484892",
   "metadata": {
    "tags": []
   },
   "outputs": [],
   "source": [
    "r = requests.post(url, data=request_body, headers=headers)"
   ]
  },
  {
   "cell_type": "markdown",
   "id": "7238bac4-faf4-4305-b598-fe1bc299d5d4",
   "metadata": {},
   "source": [
    "Print the status code and details of the prediction job. You can view the status in the GCP Cloud Console under Vertex AI -> Batch Predictions and select the appropraite region. "
   ]
  },
  {
   "cell_type": "code",
   "execution_count": null,
   "id": "60420a4f-0d4e-45c0-8258-72970925e494",
   "metadata": {
    "tags": []
   },
   "outputs": [],
   "source": [
    "print(r.status_code)\n",
    "print(r.content)"
   ]
  },
  {
   "cell_type": "code",
   "execution_count": null,
   "id": "de932f24-0585-4164-b878-91e7b2b7c4b1",
   "metadata": {},
   "outputs": [],
   "source": []
  },
  {
   "cell_type": "code",
   "execution_count": null,
   "id": "fc2aceb5-c0fe-4ede-beb0-e11b87f3b630",
   "metadata": {},
   "outputs": [],
   "source": []
  },
  {
   "cell_type": "code",
   "execution_count": null,
   "id": "c2764468-a8a8-4255-b66d-1fb22f7d825e",
   "metadata": {
    "tags": []
   },
   "outputs": [],
   "source": []
  },
  {
   "cell_type": "code",
   "execution_count": null,
   "id": "704401e6-7bf0-4868-9411-4795cb86bb83",
   "metadata": {},
   "outputs": [],
   "source": []
  },
  {
   "cell_type": "code",
   "execution_count": null,
   "id": "4939d7bd-4c95-45d6-ad6a-db15984246e8",
   "metadata": {},
   "outputs": [],
   "source": []
  }
 ],
 "metadata": {
  "environment": {
   "kernel": "python3",
   "name": "common-cpu.m113",
   "type": "gcloud",
   "uri": "gcr.io/deeplearning-platform-release/base-cpu:m113"
  },
  "kernelspec": {
   "display_name": "Python 3",
   "language": "python",
   "name": "python3"
  },
  "language_info": {
   "codemirror_mode": {
    "name": "ipython",
    "version": 3
   },
   "file_extension": ".py",
   "mimetype": "text/x-python",
   "name": "python",
   "nbconvert_exporter": "python",
   "pygments_lexer": "ipython3",
   "version": "3.10.13"
  }
 },
 "nbformat": 4,
 "nbformat_minor": 5
}
